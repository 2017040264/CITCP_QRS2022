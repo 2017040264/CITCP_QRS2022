{
 "cells": [
  {
   "cell_type": "code",
   "execution_count": 10,
   "metadata": {},
   "outputs": [],
   "source": [
    "import pandas as pd\n",
    "import os\n",
    "import numpy as np\n",
    "from scipy.stats import ttest_ind"
   ]
  },
  {
   "cell_type": "code",
   "execution_count": 11,
   "metadata": {},
   "outputs": [],
   "source": [
    "df=pd.read_pickle(\"RETECS_tcfail_rq\")#1064460条数据\n",
    "#pure_df = df[(df['detected'] + df['missed'] > 0)]#248040条数据\n",
    "pure_df = df[(df['detected'] + df['missed'] > 0)]\n",
    "pure_df = pure_df.groupby(['env',\"agent\",\"iteration\"], as_index=False).mean()\n",
    "pure_df.to_csv(os.path.join('显著性检验_result.csv'))"
   ]
  },
  {
   "cell_type": "code",
   "execution_count": 12,
   "metadata": {},
   "outputs": [
    {
     "name": "stdout",
     "output_type": "stream",
     "text": [
      "(30,) (30,)\n",
      "显著性检验： apache_commons napfd 0.0067837508983697595 False\n"
     ]
    }
   ],
   "source": [
    "for column, env in enumerate(sorted(pure_df['env'].unique())):\n",
    "    for title in ['napfd','recall','ttf']:\n",
    "        a=0 # new is better than old\n",
    "        b=0 # new and old are queal\n",
    "        c=0 # new is lower tha old\n",
    "        env_df=pure_df[pure_df[\"env\"].isin([env])]\n",
    "        for iter in sorted(env_df['step'].unique()):\n",
    "\n",
    "            iter_df=env_df[env_df[\"step\"].isin([iter])]\n",
    "            \n",
    "            x=iter_df[iter_df[\"agent\"].isin(['mlp_cla_new'])]\n",
    "            y=iter_df[iter_df[\"agent\"].isin(['mlp_cla_old'])]\n",
    "            new=np.array(x[title],dtype='float64')\n",
    "            old=np.array(y[title],dtype='float64')\n",
    "            #print(type(new),type(old))\n",
    "            print(new.shape,old.shape)\n",
    "            res = ttest_ind(new, old).pvalue\n",
    "            \n",
    "            # new=str(x[title].mean())#.split()[1]\n",
    "            # old=str(y[title].mean())#.split()[1]\n",
    "            # if new>old:\n",
    "            #     a+=1\n",
    "            # elif new==old:\n",
    "            #     b+=1\n",
    "            # else:\n",
    "            #     c+=1\n",
    "            #print(new,old)\n",
    "            break\n",
    "\n",
    "        #print(env,title,a,b,c)\n",
    "        print(\"显著性检验：\",env,title,res,res>0.1)\n",
    "        break\n",
    "        \n",
    "    \n",
    "    break\n",
    "\n",
    "        "
   ]
  },
  {
   "cell_type": "markdown",
   "metadata": {},
   "source": [
    "for column, env in enumerate(sorted(pure_df['env'].unique())):\n",
    "    for title in ['napfd','recall','ttf']:\n",
    "        a=0 # new is better than old\n",
    "        b=0 # new and old are queal\n",
    "        c=0 # new is lower tha old\n",
    "        env_df=pure_df[pure_df[\"env\"].isin([env])]\n",
    "        for iter in sorted(env_df['iteration'].unique()):\n",
    "\n",
    "            iter_df=env_df[env_df[\"iteration\"].isin([iter])]\n",
    "            \n",
    "            x=iter_df[iter_df[\"agent\"].isin(['mlp_cla_new'])]\n",
    "            y=iter_df[iter_df[\"agent\"].isin(['mlp_cla_old'])]\n",
    "            new=np.array(x[title],dtype='float32')\n",
    "            old=np.array(y[title],dtype='float32')\n",
    "            #print(type(new),type(old))\n",
    "            #print(new)\n",
    "            res = ttest_ind(new, old).pvalue\n",
    "            \n",
    "            # new=str(x[title].mean())#.split()[1]\n",
    "            # old=str(y[title].mean())#.split()[1]\n",
    "            # if new>old:\n",
    "            #     a+=1\n",
    "            # elif new==old:\n",
    "            #     b+=1\n",
    "            # else:\n",
    "            #     c+=1\n",
    "            #print(new,old)\n",
    "            #break\n",
    "\n",
    "        #print(env,title,a,b,c)\n",
    "        print(\"显著性检验：\",env,title,res,res>0.01)\n",
    "        #break\n",
    "        \n",
    "        \n",
    "    #break\n",
    "\n",
    "        "
   ]
  },
  {
   "cell_type": "markdown",
   "metadata": {},
   "source": [
    "for column, env in enumerate(sorted(pure_df['env'].unique())):\n",
    "    for title in ['napfd','recall','ttf']:\n",
    "        a=0 # new is better than old\n",
    "        b=0 # new and old are queal\n",
    "        c=0 # new is lower tha old\n",
    "        env_df=pure_df[pure_df[\"env\"].isin([env])]\n",
    "        for iter in sorted(env_df['iteration'].unique()):\n",
    "\n",
    "            iter_df=env_df[env_df[\"iteration\"].isin([iter])]\n",
    "            for step in sorted(iter_df['step'].unique()):\n",
    "\n",
    "                #print(column,env,iter,step)\n",
    "                tdf=iter_df[iter_df[\"step\"].isin([step])]\n",
    "                x=tdf[tdf[\"agent\"].isin(['mlp_cla_new'])]\n",
    "                y=tdf[tdf[\"agent\"].isin(['mlp_cla_old'])]\n",
    "                new=str(x[title]).split()[1]\n",
    "                old=str(y[title]).split()[1]\n",
    "                if new>old:\n",
    "                    a+=1\n",
    "                elif new==old:\n",
    "                    b+=1\n",
    "                else:\n",
    "                    c+=1\n",
    "                #print(str(x[title]).split()[1],str(y[title]).split()[1])\n",
    "            #     break\n",
    "            # break\n",
    "        print(env,title,a,b,c)\n",
    "        #break\n",
    "    #break\n",
    "\n",
    "        "
   ]
  }
 ],
 "metadata": {
  "kernelspec": {
   "display_name": "Python 3.9.2rc1 64-bit",
   "language": "python",
   "name": "python3"
  },
  "language_info": {
   "codemirror_mode": {
    "name": "ipython",
    "version": 3
   },
   "file_extension": ".py",
   "mimetype": "text/x-python",
   "name": "python",
   "nbconvert_exporter": "python",
   "pygments_lexer": "ipython3",
   "version": "3.9.2rc1"
  },
  "orig_nbformat": 4,
  "vscode": {
   "interpreter": {
    "hash": "2469a70536e4d2335a2ea8907942d0699c37342a371ac185bdb5b0aa6f073890"
   }
  }
 },
 "nbformat": 4,
 "nbformat_minor": 2
}
