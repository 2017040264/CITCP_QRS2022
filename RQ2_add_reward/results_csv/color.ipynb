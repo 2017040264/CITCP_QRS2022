{
 "cells": [
  {
   "cell_type": "code",
   "execution_count": 1,
   "metadata": {},
   "outputs": [],
   "source": [
    "import pandas as pd\n",
    "import os\n",
    "import openpyxl\n",
    "from openpyxl import load_workbook\n",
    "import pandas as pd\n",
    "from openpyxl.styles import PatternFill,Font"
   ]
  },
  {
   "cell_type": "code",
   "execution_count": 2,
   "metadata": {},
   "outputs": [
    {
     "data": {
      "text/plain": [
       "<Worksheet \"Sheet1\">"
      ]
     },
     "execution_count": 2,
     "metadata": {},
     "output_type": "execute_result"
    }
   ],
   "source": [
    "# 比如打开test.xlsx\n",
    "wb = load_workbook(filename='qr2_1.xlsx',data_only=True)\n",
    "# 使用第一个sheet作为工作簿\n",
    "work = wb[wb.sheetnames[0]]\n",
    "work"
   ]
  },
  {
   "cell_type": "code",
   "execution_count": 3,
   "metadata": {},
   "outputs": [
    {
     "name": "stdout",
     "output_type": "stream",
     "text": [
      "14\n",
      "[['Dataset', 'NHPOAP', 'ATCFNLF', 'ATCFNEF', 'ATCFNMF', 'NHPOAP', 'ATCFNLF', 'ATCFNEF', 'ATCFNMF', 'NHPOAP', 'ATCFNLF', 'ATCFNEF', 'ATCFNMF', 'NHPOAP', 'ATCFNLF', 'ATCFNEF', 'ATCFNMF'], ['Apache Commons', 0.314652812499876, 0.524835, 0.427183, 0.505199, 0.940873015873016, 0.981548, 0.990476, 0.998016, 322.278571428571, 226.110714, 281.464286, 238.769048, 0.100972371441977, 0.103617, 0.110774, 0.107117]]\n",
      "['Rails', 0.356057878536369, 0.383918, 0.383304, 0.38173, 0.492012493128045, 0.502508, 0.502487, 0.493692, 41.0361341801009, 35.381225, 35.505976, 34.320225, 0.0613065791157242, 0.061306, 0.060523, 0.06094]\n"
     ]
    }
   ],
   "source": [
    "# 按行读取元素\n",
    "all=[]\n",
    "for row in work.rows:\n",
    "    lista=[]\n",
    "    for c in row:\n",
    "        lista.append(c.value)\n",
    "    all.append(lista)\n",
    "print(len(all))\n",
    "print(all[:2])\n",
    "print(all[12])"
   ]
  },
  {
   "cell_type": "code",
   "execution_count": 4,
   "metadata": {},
   "outputs": [],
   "source": [
    "base=4\n",
    "maxindex=[]\n",
    "colindex=[]\n",
    "for i in range(1,14):\n",
    "    for j in range(1,3):\n",
    "        # 找最大值\n",
    "        index=all[i].index(max(all[i][base*(j-1)+1:base*j+1]))\n",
    "        s=chr(index+65)+str(i+1)\n",
    "        maxindex.append(s)\n",
    "\n",
    "\n",
    "        # 找大于基线的值\n",
    "        for k in range(base*(j-1)+2,base*j+1):\n",
    "            if all[i][k]>=all[i][base*(j-1)+1]:\n",
    "                colindex.append(chr(k+65)+str(i+1))\n",
    "\n",
    "    for j in range(3,5):\n",
    "        # 找最小值\n",
    "        index=all[i].index(min(all[i][base*(j-1)+1:base*j+1]))\n",
    "        s=chr(index+65)+str(i+1)\n",
    "        maxindex.append(s)\n",
    "\n",
    "        # 找小于基线的值\n",
    "        for k in range(base*(j-1)+2,base*j+1):\n",
    "            if all[i][k]<=all[i][base*(j-1)+1]:\n",
    "                colindex.append(chr(k+65)+str(i+1))"
   ]
  },
  {
   "cell_type": "code",
   "execution_count": 5,
   "metadata": {},
   "outputs": [],
   "source": [
    "fill = PatternFill('solid',fgColor='D9D9D9')\n",
    "font= Font(bold=True)\n",
    "for i in maxindex:\n",
    "    work[i].font=font\n",
    "\n",
    "for i in colindex:\n",
    "    work[i].fill=fill"
   ]
  },
  {
   "cell_type": "code",
   "execution_count": 6,
   "metadata": {},
   "outputs": [],
   "source": [
    "wb.close()\n",
    "wb.save(\"set_color.xlsx\")"
   ]
  }
 ],
 "metadata": {
  "interpreter": {
   "hash": "2469a70536e4d2335a2ea8907942d0699c37342a371ac185bdb5b0aa6f073890"
  },
  "kernelspec": {
   "display_name": "Python 3.9.2rc1 64-bit",
   "language": "python",
   "name": "python3"
  },
  "language_info": {
   "codemirror_mode": {
    "name": "ipython",
    "version": 3
   },
   "file_extension": ".py",
   "mimetype": "text/x-python",
   "name": "python",
   "nbconvert_exporter": "python",
   "pygments_lexer": "ipython3",
   "version": "3.9.2"
  },
  "orig_nbformat": 4
 },
 "nbformat": 4,
 "nbformat_minor": 2
}
