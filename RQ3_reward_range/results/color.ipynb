{
 "cells": [
  {
   "cell_type": "code",
   "execution_count": 5,
   "metadata": {},
   "outputs": [],
   "source": [
    "import pandas as pd\n",
    "import os\n",
    "import openpyxl\n",
    "from openpyxl import load_workbook\n",
    "import pandas as pd\n",
    "from openpyxl.styles import PatternFill,Font"
   ]
  },
  {
   "cell_type": "code",
   "execution_count": 6,
   "metadata": {},
   "outputs": [
    {
     "data": {
      "text/plain": [
       "<Worksheet \"Sheet1\">"
      ]
     },
     "execution_count": 6,
     "metadata": {},
     "output_type": "execute_result"
    }
   ],
   "source": [
    "# 比如打开test.xlsx\n",
    "wb = load_workbook(filename='qr3_1.xlsx',data_only=True)\n",
    "# 使用第一个sheet作为工作簿\n",
    "work = wb[wb.sheetnames[0]]\n",
    "work"
   ]
  },
  {
   "cell_type": "code",
   "execution_count": 7,
   "metadata": {},
   "outputs": [
    {
     "name": "stdout",
     "output_type": "stream",
     "text": [
      "14\n",
      "[['Dataset', 'ATCF_NLF_1', 'ATCF_NLF_2', 'ATCF_NLF_3', 'ATCF_NLF_4', 'ATCF_NLF_5', 'ATCF_NLF_6', 'ATCF_NLF_1', 'ATCF_NLF_2', 'ATCF_NLF_3', 'ATCF_NLF_4', 'ATCF_NLF_5', 'ATCF_NLF_6', 'ATCF_NLF_1', 'ATCF_NLF_2', 'ATCF_NLF_3', 'ATCF_NLF_4', 'ATCF_NLF_5', 'ATCF_NLF_6', 'ATCF_NLF_1', 'ATCF_NLF_2', 'ATCF_NLF_3', 'ATCF_NLF_4', 'ATCF_NLF_5', 'ATCF_NLF_6'], ['Apache Commons', 0.524835, 0.509898, 0.482631, 0.43247, 0.426097, 0.43618, 0.981548, 0.969322, 0.902473, 0.716346, 0.671932, 0.693681, 226.110714, 239.082418, 226.105769, 166.026099, 137.451923, 147.5, 0.103617, 0.120831, 0.111247, 0.115606, 0.111206, 0.107895]]\n",
      "['Rails', 0.383918, 0.37934, 0.380822, 0.384955, 0.380855, 0.380829, 0.502508, 0.492693, 0.504106, 0.535512, 0.618682, 0.559951, 35.381225, 34.595811, 36.320835, 40.927292, 55.716068, 45.182381, 0.061306, 0.06114, 0.061828, 0.06107, 0.061097, 0.061922]\n"
     ]
    }
   ],
   "source": [
    "# 按行读取元素\n",
    "all=[]\n",
    "for row in work.rows:\n",
    "    lista=[]\n",
    "    for c in row:\n",
    "        lista.append(c.value)\n",
    "    all.append(lista)\n",
    "print(len(all))\n",
    "print(all[:2])\n",
    "print(all[12])"
   ]
  },
  {
   "cell_type": "code",
   "execution_count": 8,
   "metadata": {},
   "outputs": [],
   "source": [
    "base=6\n",
    "maxindex=[]\n",
    "colindex=[]\n",
    "for i in range(1,14):\n",
    "    for j in range(1,3):\n",
    "        # 找最大值\n",
    "        index=all[i].index(max(all[i][base*(j-1)+1:base*j+1]))\n",
    "        s=chr(index+65)+str(i+1)\n",
    "        maxindex.append(s)\n",
    "\n",
    "\n",
    "        # 找大于基线的值\n",
    "        for k in range(base*(j-1)+2,base*j+1):\n",
    "            if all[i][k]>=all[i][base*(j-1)+1]:\n",
    "                colindex.append(chr(k+65)+str(i+1))\n",
    "\n",
    "    for j in range(3,5):\n",
    "        # 找最小值\n",
    "        index=all[i].index(min(all[i][base*(j-1)+1:base*j+1]))\n",
    "        s=chr(index+65)+str(i+1)\n",
    "        maxindex.append(s)\n",
    "\n",
    "        # 找小于基线的值\n",
    "        for k in range(base*(j-1)+2,base*j+1):\n",
    "            if all[i][k]<=all[i][base*(j-1)+1]:\n",
    "                colindex.append(chr(k+65)+str(i+1))"
   ]
  },
  {
   "cell_type": "code",
   "execution_count": 9,
   "metadata": {},
   "outputs": [],
   "source": [
    "fill = PatternFill('solid',fgColor='D9D9D9')\n",
    "font= Font(bold=True)\n",
    "for i in maxindex:\n",
    "    work[i].font=font\n",
    "\n",
    "for i in colindex:\n",
    "    work[i].fill=fill"
   ]
  },
  {
   "cell_type": "code",
   "execution_count": 10,
   "metadata": {},
   "outputs": [],
   "source": [
    "wb.close()\n",
    "wb.save(\"set_color.xlsx\")"
   ]
  }
 ],
 "metadata": {
  "interpreter": {
   "hash": "2469a70536e4d2335a2ea8907942d0699c37342a371ac185bdb5b0aa6f073890"
  },
  "kernelspec": {
   "display_name": "Python 3.9.2rc1 64-bit",
   "language": "python",
   "name": "python3"
  },
  "language_info": {
   "codemirror_mode": {
    "name": "ipython",
    "version": 3
   },
   "file_extension": ".py",
   "mimetype": "text/x-python",
   "name": "python",
   "nbconvert_exporter": "python",
   "pygments_lexer": "ipython3",
   "version": "3.9.2rc1"
  },
  "orig_nbformat": 4
 },
 "nbformat": 4,
 "nbformat_minor": 2
}
